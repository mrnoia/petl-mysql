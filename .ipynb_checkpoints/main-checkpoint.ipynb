{
 "cells": [
  {
   "cell_type": "code",
   "execution_count": 4,
   "id": "da3d56c3",
   "metadata": {},
   "outputs": [],
   "source": [
    "import os\n",
    "import sys\n",
    "import petl\n",
    "import mysql.connector\n",
    "import configparser\n",
    "import requests\n",
    "import datetime\n",
    "import json\n",
    "import decimal"
   ]
  },
  {
   "cell_type": "code",
   "execution_count": 5,
   "id": "81206f44",
   "metadata": {},
   "outputs": [],
   "source": [
    "# get data from configuration file\n",
    "config = configparser.ConfigParser()\n",
    "try:\n",
    "    config.read('ETLDemo.ini')\n",
    "except Exception as e:\n",
    "    print('could not read configuration file:' + str(e))\n",
    "    sys.exit()"
   ]
  },
  {
   "cell_type": "code",
   "execution_count": 6,
   "id": "2092373c",
   "metadata": {},
   "outputs": [],
   "source": [
    "# read settings from configuration file\n",
    "startDate = config['CONFIG']['startDate']\n",
    "url = config['CONFIG']['url']\n",
    "hostname = config['CONFIG']['server']\n",
    "database = config['CONFIG']['database']\n",
    "username = config['CONFIG']['db_user']\n",
    "password = config['CONFIG']['db_pass']"
   ]
  },
  {
   "cell_type": "code",
   "execution_count": 7,
   "id": "2330348e",
   "metadata": {},
   "outputs": [],
   "source": [
    "#test db connection\n",
    "mySqlConnection = mysql.connector.connect(host=hostname, user=username, passwd=password, db=database, connect_timeout=1000)\n",
    "mysqlcursor = mySqlConnection.cursor()\n",
    "sql='SHOW CREATE TABLE expenses'\n",
    "mysqlcursor.execute(sql)\n",
    "result = mysqlcursor.fetchall()\n",
    "mySqlConnection.commit()\n",
    "mySqlConnection.close()"
   ]
  },
  {
   "cell_type": "code",
   "execution_count": null,
   "id": "f5b59b52",
   "metadata": {},
   "outputs": [],
   "source": [
    "# request data from URL\n",
    "try:\n",
    "    BOCResponse = requests.get(url+startDate)\n",
    "except Exception as e:\n",
    "    print('could not make request:' + str(e))\n",
    "    sys.exit()\n",
    "print (BOCResponse.text)"
   ]
  },
  {
   "cell_type": "code",
   "execution_count": 9,
   "id": "460d0d71",
   "metadata": {},
   "outputs": [],
   "source": [
    "# initialize list of lists for data storage\n",
    "BOCDates = []\n",
    "BOCRates = []"
   ]
  },
  {
   "cell_type": "code",
   "execution_count": 17,
   "id": "f50a10e8",
   "metadata": {},
   "outputs": [
    {
     "name": "stdout",
     "output_type": "stream",
     "text": [
      "+---------------------+--------+\n",
      "| e_date              | rate   |\n",
      "+=====================+========+\n",
      "| 2020-01-02 00:00:00 | 1.2992 |\n",
      "+---------------------+--------+\n",
      "| 2020-01-03 00:00:00 | 1.2988 |\n",
      "+---------------------+--------+\n",
      "| 2020-01-06 00:00:00 | 1.2970 |\n",
      "+---------------------+--------+\n",
      "| 2020-01-07 00:00:00 | 1.3009 |\n",
      "+---------------------+--------+\n",
      "| 2020-01-08 00:00:00 | 1.3026 |\n",
      "+---------------------+--------+\n",
      "...\n",
      "\n"
     ]
    }
   ],
   "source": [
    "# check response status and process BOC JSON object\n",
    "if (BOCResponse.status_code == 200):\n",
    "    BOCRaw = json.loads(BOCResponse.text)\n",
    "    \n",
    "    # extract observation data into column arrays\n",
    "    for row in BOCRaw['observations']:\n",
    "        BOCDates.append(datetime.datetime.strptime(row['d'],'%Y-%m-%d'))\n",
    "        BOCRates.append(decimal.Decimal(row['FXUSDCAD']['v']))\n",
    "        \n",
    "    # create petl table from column arrays and rename the columns\n",
    "    exchangeRates = petl.fromcolumns([BOCDates,BOCRates],header=['e_date','rate'])\n",
    "    print (exchangeRates)\n",
    "    \n",
    "    # load expense document\n",
    "    try:\n",
    "        expenses = petl.io.xlsx.fromxlsx('Expenses.xlsx',sheet='Github')\n",
    "    except Exception as e:\n",
    "        print('could not open expenses.xlsx:' + str(e))\n",
    "        sys.exit()"
   ]
  },
  {
   "cell_type": "code",
   "execution_count": null,
   "id": "2b128acd",
   "metadata": {},
   "outputs": [],
   "source": []
  }
 ],
 "metadata": {
  "kernelspec": {
   "display_name": "petl",
   "language": "python",
   "name": "petl"
  },
  "language_info": {
   "codemirror_mode": {
    "name": "ipython",
    "version": 3
   },
   "file_extension": ".py",
   "mimetype": "text/x-python",
   "name": "python",
   "nbconvert_exporter": "python",
   "pygments_lexer": "ipython3",
   "version": "3.9.6"
  }
 },
 "nbformat": 4,
 "nbformat_minor": 5
}
