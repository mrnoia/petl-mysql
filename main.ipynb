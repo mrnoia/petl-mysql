{
 "cells": [
  {
   "cell_type": "code",
   "execution_count": 1,
   "id": "bb3b4455",
   "metadata": {},
   "outputs": [],
   "source": [
    "import os\n",
    "import sys\n",
    "import petl\n",
    "import pymysql\n",
    "import configparser\n",
    "import requests\n",
    "import datetime\n",
    "import json\n",
    "import decimal"
   ]
  },
  {
   "cell_type": "code",
   "execution_count": 2,
   "id": "33cf825f",
   "metadata": {},
   "outputs": [],
   "source": [
    "# get data from configuration file\n",
    "config = configparser.ConfigParser()\n",
    "try:\n",
    "    config.read('ETLDemo.ini')\n",
    "except Exception as e:\n",
    "    print('could not read configuration file:' + str(e))\n",
    "    sys.exit()"
   ]
  },
  {
   "cell_type": "code",
   "execution_count": 3,
   "id": "6e37e3d2",
   "metadata": {},
   "outputs": [],
   "source": [
    "# read settings from configuration file\n",
    "startDate = config['CONFIG']['startDate']\n",
    "url = config['CONFIG']['url']\n",
    "hostname = config['CONFIG']['server']\n",
    "database = config['CONFIG']['database']\n",
    "username = config['CONFIG']['db_user']\n",
    "password = config['CONFIG']['db_pass']"
   ]
  },
  {
   "cell_type": "code",
   "execution_count": 4,
   "id": "333a3474",
   "metadata": {},
   "outputs": [],
   "source": [
    "# request data from URL\n",
    "try:\n",
    "    BOCResponse = requests.get(url+startDate)\n",
    "except Exception as e:\n",
    "    print('could not make request:' + str(e))\n",
    "    sys.exit()\n",
    "#print (BOCResponse.text)"
   ]
  },
  {
   "cell_type": "code",
   "execution_count": 5,
   "id": "080e64d0",
   "metadata": {},
   "outputs": [],
   "source": [
    "# initialize list of lists for data storage\n",
    "BOCDates = []\n",
    "BOCRates = []"
   ]
  },
  {
   "cell_type": "code",
   "execution_count": 6,
   "id": "172ac28b",
   "metadata": {},
   "outputs": [
    {
     "name": "stdout",
     "output_type": "stream",
     "text": [
      "+---------------------+-----+\n",
      "| e_date              | USD |\n",
      "+=====================+=====+\n",
      "| 2020-01-11 00:00:00 |  25 |\n",
      "+---------------------+-----+\n",
      "| 2020-01-30 00:00:00 |   7 |\n",
      "+---------------------+-----+\n",
      "| 2020-02-11 00:00:00 |  25 |\n",
      "+---------------------+-----+\n",
      "| 2020-02-28 00:00:00 |   7 |\n",
      "+---------------------+-----+\n",
      "| 2020-03-11 00:00:00 |  25 |\n",
      "+---------------------+-----+\n",
      "...\n",
      "\n",
      "+---------------------+--------+-----+---------+\n",
      "| e_date              | rate   | USD | CAD     |\n",
      "+=====================+========+=====+=========+\n",
      "| 2020-01-11 00:00:00 | 1.3051 |  25 | 32.6275 |\n",
      "+---------------------+--------+-----+---------+\n",
      "| 2020-01-30 00:00:00 | 1.3217 |   7 |  9.2519 |\n",
      "+---------------------+--------+-----+---------+\n",
      "| 2020-02-11 00:00:00 | 1.3292 |  25 | 33.2300 |\n",
      "+---------------------+--------+-----+---------+\n",
      "| 2020-02-28 00:00:00 | 1.3429 |   7 |  9.4003 |\n",
      "+---------------------+--------+-----+---------+\n",
      "| 2020-03-11 00:00:00 | 1.3745 |  25 | 34.3625 |\n",
      "+---------------------+--------+-----+---------+\n",
      "...\n",
      "\n"
     ]
    }
   ],
   "source": [
    "# check response status and process BOC JSON object\n",
    "if (BOCResponse.status_code == 200):\n",
    "    BOCRaw = json.loads(BOCResponse.text)\n",
    "    \n",
    "    # extract observation data into column arrays\n",
    "    for row in BOCRaw['observations']:\n",
    "        BOCDates.append(datetime.datetime.strptime(row['d'],'%Y-%m-%d'))\n",
    "        BOCRates.append(decimal.Decimal(row['FXUSDCAD']['v']))\n",
    "        \n",
    "    # create petl table from column arrays and rename the columns\n",
    "    exchangeRates = petl.fromcolumns([BOCDates,BOCRates],header=['e_date','rate'])\n",
    "    #print (exchangeRates)\n",
    "    \n",
    "    # load expense document\n",
    "    try:\n",
    "        expenses = petl.io.xlsx.fromxlsx('Expenses.xlsx',sheet='Github')\n",
    "    except Exception as e:\n",
    "        print('could not open expenses.xlsx:' + str(e))\n",
    "        sys.exit()\n",
    "    \n",
    "    #rename columns\n",
    "    \n",
    "    expenses = petl.rename(expenses, 'date', 'e_date')\n",
    "    #expenses = petl.rename(expenses, 'date', 'e_date')\n",
    "    #expenses = petl.rename(expenses, 'date', 'e_date')    \n",
    "    \n",
    "    print(expenses) \n",
    "    \n",
    "    # join tables\n",
    "    expenses = petl.outerjoin(exchangeRates,expenses,key='e_date')\n",
    "\n",
    "    # fill down missing values\n",
    "    expenses = petl.filldown(expenses,'rate')\n",
    "\n",
    "    # remove dates with no expenses\n",
    "    expenses = petl.select(expenses,lambda rec: rec.USD != None)\n",
    "\n",
    "    # add CDN column\n",
    "    expenses = petl.addfield(expenses,'CAD', lambda rec: decimal.Decimal(rec.USD) * rec.rate)\n",
    "    print(expenses)\n",
    "    \n",
    "    # intialize database connection\n",
    "    try:\n",
    "        connection = pymysql.connect(password=password, database=database,host=hostname,user=username)        \n",
    "        connection.cursor().execute('SET SQL_MODE=ANSI_QUOTES')\n",
    "    except Exception as e:\n",
    "        print('could not connect to database:' + str(e))\n",
    "        sys.exit()\n",
    "    # populate Expenses database table\n",
    "    try:\n",
    "        petl.io.todb (expenses,connection,'expenses')    \n",
    "    except Exception as e:\n",
    "        print('could not write to database:' + str(e))\n",
    "    #print (expenses)    "
   ]
  },
  {
   "cell_type": "code",
   "execution_count": null,
   "id": "01f3bdbc",
   "metadata": {},
   "outputs": [],
   "source": []
  }
 ],
 "metadata": {
  "kernelspec": {
   "display_name": "petl",
   "language": "python",
   "name": "petl"
  },
  "language_info": {
   "codemirror_mode": {
    "name": "ipython",
    "version": 3
   },
   "file_extension": ".py",
   "mimetype": "text/x-python",
   "name": "python",
   "nbconvert_exporter": "python",
   "pygments_lexer": "ipython3",
   "version": "3.9.6"
  }
 },
 "nbformat": 4,
 "nbformat_minor": 5
}
